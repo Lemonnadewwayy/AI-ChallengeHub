{
 "cells": [
  {
   "cell_type": "code",
   "execution_count": 4,
   "metadata": {},
   "outputs": [],
   "source": [
    "import os\n",
    "import torch\n",
    "import pandas as pd\n",
    "from torchvision import datasets, transforms, models\n",
    "from torch.utils.data import DataLoader\n",
    "import torch.nn as nn"
   ]
  },
  {
   "cell_type": "code",
   "execution_count": 5,
   "metadata": {},
   "outputs": [
    {
     "name": "stderr",
     "output_type": "stream",
     "text": [
      "C:\\Users\\wzf20\\AppData\\Local\\Temp\\ipykernel_6036\\780092045.py:64: FutureWarning: You are using `torch.load` with `weights_only=False` (the current default value), which uses the default pickle module implicitly. It is possible to construct malicious pickle data which will execute arbitrary code during unpickling (See https://github.com/pytorch/pytorch/blob/main/SECURITY.md#untrusted-models for more details). In a future release, the default value for `weights_only` will be flipped to `True`. This limits the functions that could be executed during unpickling. Arbitrary objects will no longer be allowed to be loaded via this mode unless they are explicitly allowlisted by the user via `torch.serialization.add_safe_globals`. We recommend you start setting `weights_only=True` for any use case where you don't have full control of the loaded file. Please open an issue on GitHub for any issues related to this experimental feature.\n",
      "  model.load_state_dict(torch.load(model_path, map_location=device))\n"
     ]
    },
    {
     "name": "stdout",
     "output_type": "stream",
     "text": [
      "提交文件已保存到 C:\\Users\\wzf20\\Desktop\\chest_xray_pneumonia\\results\\predictions\\submission.csv\n"
     ]
    }
   ],
   "source": [
    "device = torch.device(\"cuda\" if torch.cuda.is_available() else \"cpu\")\n",
    "\n",
    "# 模型选择需与训练时保持一致\n",
    "model_name = 'mobilenet_v3'  # 请确保与 train_model.py 中的 model_name 一致\n",
    "\n",
    "def create_model(model_name=model_name):\n",
    "    if model_name.lower() == 'resnet50':\n",
    "        model = models.resnet50(pretrained=False)\n",
    "        in_features = model.fc.in_features\n",
    "        model.fc = nn.Sequential(\n",
    "            nn.Linear(in_features, 1024),\n",
    "            nn.ReLU(),\n",
    "            nn.Dropout(0.5),\n",
    "            nn.Linear(1024, 512),\n",
    "            nn.ReLU(),\n",
    "            nn.Dropout(0.5),\n",
    "            nn.Linear(512, 1)\n",
    "        )\n",
    "    elif model_name.lower() == 'mobilenet_v3':\n",
    "        model = models.mobilenet_v3_large(pretrained=False)\n",
    "        in_features = model.classifier[0].in_features\n",
    "        model.classifier = nn.Sequential(\n",
    "            nn.Linear(in_features, 1024),\n",
    "            nn.ReLU(),\n",
    "            nn.Dropout(0.5),\n",
    "            nn.Linear(1024, 512),\n",
    "            nn.ReLU(),\n",
    "            nn.Dropout(0.5),\n",
    "            nn.Linear(512, 1)\n",
    "        )\n",
    "    elif model_name.lower() == 'efficientnet_b0':\n",
    "        model = models.efficientnet_b0(pretrained=False)\n",
    "        in_features = model.classifier[1].in_features\n",
    "        model.classifier = nn.Sequential(\n",
    "            nn.Linear(in_features, 1024),\n",
    "            nn.ReLU(),\n",
    "            nn.Dropout(0.5),\n",
    "            nn.Linear(1024, 512),\n",
    "            nn.ReLU(),\n",
    "            nn.Dropout(0.5),\n",
    "            nn.Linear(512, 1)\n",
    "        )\n",
    "    else:\n",
    "        raise ValueError(\"model_name 仅支持 'resnet50'、'mobilenet_v3' 或 'efficientnet_b0'\")\n",
    "    return model.to(device)\n",
    "\n",
    "# 图像预处理\n",
    "img_height = 150\n",
    "img_width = 150\n",
    "test_transform = transforms.Compose([\n",
    "    transforms.Resize((img_height, img_width)),\n",
    "    transforms.ToTensor()\n",
    "])\n",
    "\n",
    "# 测试数据路径\n",
    "test_dir = r'C:\\Users\\wzf20\\Desktop\\chest_xray_pneumonia\\data\\test'\n",
    "# 使用 ImageFolder 加载测试数据，要求测试集文件夹按照类别组织\n",
    "test_dataset = datasets.ImageFolder(test_dir, transform=test_transform)\n",
    "test_loader = DataLoader(test_dataset, batch_size=32, shuffle=False, num_workers=4)\n",
    "\n",
    "# 加载模型\n",
    "model = create_model(model_name)\n",
    "model_path = r'C:\\Users\\wzf20\\Desktop\\chest_xray_pneumonia\\models\\model.pth'\n",
    "model.load_state_dict(torch.load(model_path, map_location=device))\n",
    "model.eval()\n",
    "\n",
    "all_preds = []\n",
    "# 从 test_dataset.samples 中提取相对路径（ImageFolder 会自动分配标签）\n",
    "image_paths = [os.path.relpath(path, test_dir) for (path, _) in test_dataset.samples]\n",
    "\n",
    "with torch.no_grad():\n",
    "    for inputs, _ in test_loader:\n",
    "        inputs = inputs.to(device)\n",
    "        outputs = model(inputs)\n",
    "        preds = (torch.sigmoid(outputs) >= 0.5)\n",
    "        preds = preds.cpu().numpy().astype(int).flatten()\n",
    "        all_preds.extend(preds.tolist())\n",
    "\n",
    "# 生成提交文件\n",
    "submission_df = pd.DataFrame({\n",
    "    'image_id': image_paths,\n",
    "    'predictions': all_preds\n",
    "})\n",
    "\n",
    "submission_path = r'C:\\Users\\wzf20\\Desktop\\chest_xray_pneumonia\\results\\predictions\\submission.csv'\n",
    "os.makedirs(os.path.dirname(submission_path), exist_ok=True)\n",
    "submission_df.to_csv(submission_path, index=False)\n",
    "print(f\"提交文件已保存到 {submission_path}\")"
   ]
  }
 ],
 "metadata": {
  "kernelspec": {
   "display_name": ".venv",
   "language": "python",
   "name": "python3"
  },
  "language_info": {
   "codemirror_mode": {
    "name": "ipython",
    "version": 3
   },
   "file_extension": ".py",
   "mimetype": "text/x-python",
   "name": "python",
   "nbconvert_exporter": "python",
   "pygments_lexer": "ipython3",
   "version": "3.8.8"
  }
 },
 "nbformat": 4,
 "nbformat_minor": 2
}
